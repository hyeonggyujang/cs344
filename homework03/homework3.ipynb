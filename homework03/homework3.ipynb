{
 "cells": [
  {
   "cell_type": "markdown",
   "metadata": {},
   "source": [
    "# Homework 3\n",
    "## Problem 1"
   ]
  },
  {
   "cell_type": "markdown",
   "metadata": {},
   "source": [
    "1. In class we have determined that there is no linear model that could learn XOR in perceptrons. In non-linear model, we could create a model that could learn XOR in three layers where the first layer after input to be AND and OR with the second layer to compute another activation function before final output. If not using a multi-layer model, we could also utilize the backpropagation function where the model alters the weights of hidden outputs by comparing the final output and actual answer. Because of the XOR's nature that there isn't a simpler way to represent XOR computation, the model presented in class is basically the simplest way that we could compute XOR: either having multiple layers or having the backpropagation."
   ]
  },
  {
   "cell_type": "markdown",
   "metadata": {},
   "source": [
    "## Problem 2"
   ]
  },
  {
   "cell_type": "markdown",
   "metadata": {},
   "source": [
    "Required libraries are loaded. The tuples are used in the way that the Keras documentation has recommended."
   ]
  },
  {
   "cell_type": "code",
   "execution_count": 44,
   "metadata": {},
   "outputs": [],
   "source": [
    "import numpy as np\n",
    "import pandas as pd\n",
    "from keras.datasets import boston_housing\n",
    "\n",
    "(x_train, y_train), (x_test, y_test) = boston_housing.load_data()\n"
   ]
  },
  {
   "cell_type": "markdown",
   "metadata": {},
   "source": [
    "a. The shapes of the four different parts of the dataset are as follow:"
   ]
  },
  {
   "cell_type": "code",
   "execution_count": 7,
   "metadata": {},
   "outputs": [
    {
     "name": "stdout",
     "output_type": "stream",
     "text": [
      "x_train shape: (404, 13)\n",
      "y_train shape: (404,)\n",
      "x_test shape: (102, 13)\n",
      "y_test shape: (102,)\n"
     ]
    }
   ],
   "source": [
    "print('x_train shape:', x_train.shape)\n",
    "print('y_train shape:', y_train.shape)\n",
    "print('x_test shape:', x_test.shape)\n",
    "print('y_test shape:', y_test.shape)\n",
    "\n"
   ]
  },
  {
   "cell_type": "markdown",
   "metadata": {},
   "source": [
    "b. Since I already have training set and testing set defined, I only need to divide the training set into training set and validation set. I will use the first 1/4 of the each training data to become the x and y validation data."
   ]
  },
  {
   "cell_type": "code",
   "execution_count": 9,
   "metadata": {},
   "outputs": [
    {
     "name": "stdout",
     "output_type": "stream",
     "text": [
      "x_train shape: (200, 13)\n",
      "y_train shape: (200,)\n",
      "x_validation shape: (101, 13)\n",
      "y_validation shape: (101,)\n"
     ]
    }
   ],
   "source": [
    "x_validation = x_train[0:101]\n",
    "x_train = x_train[102:]\n",
    "y_validation = y_train[0:101]\n",
    "y_train = y_train[102:]\n",
    "\n",
    "print('x_train shape:', x_train.shape)\n",
    "print('y_train shape:', y_train.shape)\n",
    "print('x_validation shape:', x_validation.shape)\n",
    "print('y_validation shape:', y_validation.shape)"
   ]
  },
  {
   "cell_type": "markdown",
   "metadata": {},
   "source": [
    "c. Below is a sequential model that Keras supports. I don't know the specifics of the features, but it seems to train the machine by using the training data and compare it with the validation data. I have run the evaluate() function to see if the validation data matches well with the model trained with the training data, but it shows low values, which mena that my model isn't being trained accurately. However, if the model is trained well, I could compute predict() function to make predictions with the testing data. "
   ]
  },
  {
   "cell_type": "code",
   "execution_count": 40,
   "metadata": {},
   "outputs": [
    {
     "name": "stdout",
     "output_type": "stream",
     "text": [
      "_________________________________________________________________\n",
      "Layer (type)                 Output Shape              Param #   \n",
      "=================================================================\n",
      "dense_9 (Dense)              (None, 1)                 14        \n",
      "=================================================================\n",
      "Total params: 14\n",
      "Trainable params: 14\n",
      "Non-trainable params: 0\n",
      "_________________________________________________________________\n"
     ]
    }
   ],
   "source": [
    "from keras.models import Sequential\n",
    "from keras import layers, optimizers\n",
    "\n",
    "input_dim = x_train.shape[1]\n",
    "#sgd = optimizers.SGD(lr=0.01, decay=1e-6, momentum=0.9, nesterov=True)\n",
    "\n",
    "model = Sequential()\n",
    "model.add(layers.Dense(1, input_dim=input_dim, activation='relu'))\n",
    "model.compile(loss='mse', \n",
    "              optimizer='rmsprop',\n",
    "              metrics=['accuracy'])\n",
    "model.summary()"
   ]
  },
  {
   "cell_type": "code",
   "execution_count": 41,
   "metadata": {},
   "outputs": [],
   "source": [
    "fit = model.fit(x_train, y_train,\n",
    "                epochs=100,\n",
    "                verbose=False,\n",
    "                validation_data=(x_validation, y_validation),\n",
    "                batch_size=10)\n"
   ]
  },
  {
   "cell_type": "code",
   "execution_count": 42,
   "metadata": {},
   "outputs": [
    {
     "name": "stdout",
     "output_type": "stream",
     "text": [
      "Training Accuracy: 0.0050\n",
      "Testing Accuracy:  0.0198\n"
     ]
    }
   ],
   "source": [
    "loss, accuracy = model.evaluate(x_train, y_train, verbose=False)\n",
    "print(\"Training Accuracy: {:.4f}\".format(accuracy))\n",
    "loss, accuracy = model.evaluate(x_validation, y_validation, verbose=False)\n",
    "print(\"Testing Accuracy:  {:.4f}\".format(accuracy))"
   ]
  },
  {
   "cell_type": "code",
   "execution_count": 43,
   "metadata": {},
   "outputs": [
    {
     "data": {
      "text/plain": [
       "array([[ 0.       ],\n",
       "       [26.699192 ],\n",
       "       [22.918613 ],\n",
       "       [27.636463 ],\n",
       "       [26.002441 ],\n",
       "       [24.804659 ],\n",
       "       [31.65827  ],\n",
       "       [26.905834 ],\n",
       "       [13.507769 ],\n",
       "       [25.817963 ],\n",
       "       [11.856028 ],\n",
       "       [24.238073 ],\n",
       "       [22.913158 ],\n",
       "       [28.099552 ],\n",
       "       [18.877447 ],\n",
       "       [25.025455 ],\n",
       "       [23.672482 ],\n",
       "       [28.78557  ],\n",
       "       [24.784653 ],\n",
       "       [28.461721 ],\n",
       "       [15.169413 ],\n",
       "       [ 2.8810031],\n",
       "       [23.443077 ],\n",
       "       [20.92297  ],\n",
       "       [28.029783 ],\n",
       "       [26.841347 ],\n",
       "       [27.244963 ],\n",
       "       [26.252684 ],\n",
       "       [ 2.5681674],\n",
       "       [26.681557 ],\n",
       "       [28.195616 ],\n",
       "       [ 6.1517777],\n",
       "       [28.862942 ],\n",
       "       [22.713688 ],\n",
       "       [22.259361 ],\n",
       "       [11.381226 ],\n",
       "       [17.622303 ],\n",
       "       [15.930801 ],\n",
       "       [32.211926 ],\n",
       "       [29.231207 ],\n",
       "       [26.093704 ],\n",
       "       [27.216959 ],\n",
       "       [23.485378 ],\n",
       "       [26.910715 ],\n",
       "       [28.731165 ],\n",
       "       [22.455898 ],\n",
       "       [25.725279 ],\n",
       "       [22.058075 ],\n",
       "       [28.36476  ],\n",
       "       [23.5009   ],\n",
       "       [28.5597   ],\n",
       "       [19.477327 ],\n",
       "       [17.955374 ],\n",
       "       [21.201363 ],\n",
       "       [33.570965 ],\n",
       "       [27.077652 ],\n",
       "       [21.338015 ],\n",
       "       [28.959202 ],\n",
       "       [29.76275  ],\n",
       "       [25.97791  ],\n",
       "       [26.221537 ],\n",
       "       [24.243633 ],\n",
       "       [10.551839 ],\n",
       "       [26.227247 ],\n",
       "       [26.599567 ],\n",
       "       [30.13784  ],\n",
       "       [18.54771  ],\n",
       "       [26.95948  ],\n",
       "       [18.894003 ],\n",
       "       [14.8073225],\n",
       "       [28.087492 ],\n",
       "       [27.21309  ],\n",
       "       [27.156591 ],\n",
       "       [23.727455 ],\n",
       "       [25.515911 ],\n",
       "       [24.837885 ],\n",
       "       [26.810005 ],\n",
       "       [22.838875 ],\n",
       "       [26.939617 ],\n",
       "       [13.281811 ],\n",
       "       [23.582933 ],\n",
       "       [29.848015 ],\n",
       "       [23.72779  ],\n",
       "       [22.69212  ],\n",
       "       [24.804361 ],\n",
       "       [22.192081 ],\n",
       "       [24.04796  ],\n",
       "       [21.001013 ],\n",
       "       [25.296745 ],\n",
       "       [29.941984 ],\n",
       "       [19.523151 ],\n",
       "       [30.456558 ],\n",
       "       [25.539791 ],\n",
       "       [28.555803 ],\n",
       "       [26.930859 ],\n",
       "       [23.585205 ],\n",
       "       [29.645676 ],\n",
       "       [32.033676 ],\n",
       "       [26.445694 ],\n",
       "       [33.32068  ],\n",
       "       [28.101818 ],\n",
       "       [18.4087   ]], dtype=float32)"
      ]
     },
     "execution_count": 43,
     "metadata": {},
     "output_type": "execute_result"
    }
   ],
   "source": [
    "model.predict(x_test,\n",
    "             batch_size=10,\n",
    "             verbose=0)"
   ]
  },
  {
   "cell_type": "code",
   "execution_count": null,
   "metadata": {},
   "outputs": [],
   "source": []
  }
 ],
 "metadata": {
  "kernelspec": {
   "display_name": "Python 3",
   "language": "python",
   "name": "python3"
  },
  "language_info": {
   "codemirror_mode": {
    "name": "ipython",
    "version": 3
   },
   "file_extension": ".py",
   "mimetype": "text/x-python",
   "name": "python",
   "nbconvert_exporter": "python",
   "pygments_lexer": "ipython3",
   "version": "3.5.2"
  }
 },
 "nbformat": 4,
 "nbformat_minor": 2
}
